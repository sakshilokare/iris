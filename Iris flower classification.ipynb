{
 "cells": [
  {
   "cell_type": "code",
   "execution_count": 189,
   "id": "9dc3b370",
   "metadata": {},
   "outputs": [],
   "source": [
    "import warnings\n",
    "warnings.filterwarnings('ignore')\n",
    "import numpy as np \n",
    "import pandas as pd\n",
    "import seaborn as sns\n",
    "from sklearn.model_selection import train_test_split\n",
    "from sklearn.preprocessing import LabelEncoder\n",
    "from tensorflow  import keras\n",
    "from tensorflow.keras.models import Sequential\n",
    "from tensorflow.keras.layers import Dense, Dropout"
   ]
  },
  {
   "cell_type": "code",
   "execution_count": 163,
   "id": "8b9c614c",
   "metadata": {},
   "outputs": [],
   "source": [
    "url = \"https://archive.ics.uci.edu/ml/machine-learning-databases/iris/iris.data\"\n",
    "col_names = ['sepal_length', 'sepal_width', 'petal_length', 'petal_width', 'species']\n",
    "iris = pd.read_csv(url, names=col_names)"
   ]
  },
  {
   "cell_type": "code",
   "execution_count": 164,
   "id": "5dc2cc73-8b70-443f-b790-98f0bce8813c",
   "metadata": {},
   "outputs": [
    {
     "data": {
      "text/html": [
       "<div>\n",
       "<style scoped>\n",
       "    .dataframe tbody tr th:only-of-type {\n",
       "        vertical-align: middle;\n",
       "    }\n",
       "\n",
       "    .dataframe tbody tr th {\n",
       "        vertical-align: top;\n",
       "    }\n",
       "\n",
       "    .dataframe thead th {\n",
       "        text-align: right;\n",
       "    }\n",
       "</style>\n",
       "<table border=\"1\" class=\"dataframe\">\n",
       "  <thead>\n",
       "    <tr style=\"text-align: right;\">\n",
       "      <th></th>\n",
       "      <th>sepal_length</th>\n",
       "      <th>sepal_width</th>\n",
       "      <th>petal_length</th>\n",
       "      <th>petal_width</th>\n",
       "      <th>species</th>\n",
       "    </tr>\n",
       "  </thead>\n",
       "  <tbody>\n",
       "    <tr>\n",
       "      <th>0</th>\n",
       "      <td>5.1</td>\n",
       "      <td>3.5</td>\n",
       "      <td>1.4</td>\n",
       "      <td>0.2</td>\n",
       "      <td>Iris-setosa</td>\n",
       "    </tr>\n",
       "    <tr>\n",
       "      <th>1</th>\n",
       "      <td>4.9</td>\n",
       "      <td>3.0</td>\n",
       "      <td>1.4</td>\n",
       "      <td>0.2</td>\n",
       "      <td>Iris-setosa</td>\n",
       "    </tr>\n",
       "    <tr>\n",
       "      <th>2</th>\n",
       "      <td>4.7</td>\n",
       "      <td>3.2</td>\n",
       "      <td>1.3</td>\n",
       "      <td>0.2</td>\n",
       "      <td>Iris-setosa</td>\n",
       "    </tr>\n",
       "    <tr>\n",
       "      <th>3</th>\n",
       "      <td>4.6</td>\n",
       "      <td>3.1</td>\n",
       "      <td>1.5</td>\n",
       "      <td>0.2</td>\n",
       "      <td>Iris-setosa</td>\n",
       "    </tr>\n",
       "    <tr>\n",
       "      <th>4</th>\n",
       "      <td>5.0</td>\n",
       "      <td>3.6</td>\n",
       "      <td>1.4</td>\n",
       "      <td>0.2</td>\n",
       "      <td>Iris-setosa</td>\n",
       "    </tr>\n",
       "  </tbody>\n",
       "</table>\n",
       "</div>"
      ],
      "text/plain": [
       "   sepal_length  sepal_width  petal_length  petal_width      species\n",
       "0           5.1          3.5           1.4          0.2  Iris-setosa\n",
       "1           4.9          3.0           1.4          0.2  Iris-setosa\n",
       "2           4.7          3.2           1.3          0.2  Iris-setosa\n",
       "3           4.6          3.1           1.5          0.2  Iris-setosa\n",
       "4           5.0          3.6           1.4          0.2  Iris-setosa"
      ]
     },
     "execution_count": 164,
     "metadata": {},
     "output_type": "execute_result"
    }
   ],
   "source": [
    "iris.head()"
   ]
  },
  {
   "cell_type": "code",
   "execution_count": 165,
   "id": "2de5e561-a35f-40d2-a8cb-bdd35adb32a1",
   "metadata": {},
   "outputs": [
    {
     "data": {
      "text/plain": [
       "species\n",
       "Iris-setosa        50\n",
       "Iris-versicolor    50\n",
       "Iris-virginica     50\n",
       "Name: count, dtype: int64"
      ]
     },
     "execution_count": 165,
     "metadata": {},
     "output_type": "execute_result"
    }
   ],
   "source": [
    "iris['species'].value_counts()"
   ]
  },
  {
   "cell_type": "code",
   "execution_count": 166,
   "id": "28d27083-c169-40da-ad07-c2cf2e989ca2",
   "metadata": {},
   "outputs": [
    {
     "name": "stdout",
     "output_type": "stream",
     "text": [
      "<class 'pandas.core.frame.DataFrame'>\n",
      "RangeIndex: 150 entries, 0 to 149\n",
      "Data columns (total 5 columns):\n",
      " #   Column        Non-Null Count  Dtype  \n",
      "---  ------        --------------  -----  \n",
      " 0   sepal_length  150 non-null    float64\n",
      " 1   sepal_width   150 non-null    float64\n",
      " 2   petal_length  150 non-null    float64\n",
      " 3   petal_width   150 non-null    float64\n",
      " 4   species       150 non-null    object \n",
      "dtypes: float64(4), object(1)\n",
      "memory usage: 6.0+ KB\n"
     ]
    }
   ],
   "source": [
    "iris.info()"
   ]
  },
  {
   "cell_type": "code",
   "execution_count": 167,
   "id": "d2e58148-c219-4dd0-909e-7c048bbcccc7",
   "metadata": {},
   "outputs": [
    {
     "data": {
      "text/html": [
       "<div>\n",
       "<style scoped>\n",
       "    .dataframe tbody tr th:only-of-type {\n",
       "        vertical-align: middle;\n",
       "    }\n",
       "\n",
       "    .dataframe tbody tr th {\n",
       "        vertical-align: top;\n",
       "    }\n",
       "\n",
       "    .dataframe thead th {\n",
       "        text-align: right;\n",
       "    }\n",
       "</style>\n",
       "<table border=\"1\" class=\"dataframe\">\n",
       "  <thead>\n",
       "    <tr style=\"text-align: right;\">\n",
       "      <th></th>\n",
       "      <th>sepal_length</th>\n",
       "      <th>sepal_width</th>\n",
       "      <th>petal_length</th>\n",
       "      <th>petal_width</th>\n",
       "      <th>species</th>\n",
       "    </tr>\n",
       "  </thead>\n",
       "  <tbody>\n",
       "    <tr>\n",
       "      <th>0</th>\n",
       "      <td>False</td>\n",
       "      <td>False</td>\n",
       "      <td>False</td>\n",
       "      <td>False</td>\n",
       "      <td>False</td>\n",
       "    </tr>\n",
       "    <tr>\n",
       "      <th>1</th>\n",
       "      <td>False</td>\n",
       "      <td>False</td>\n",
       "      <td>False</td>\n",
       "      <td>False</td>\n",
       "      <td>False</td>\n",
       "    </tr>\n",
       "    <tr>\n",
       "      <th>2</th>\n",
       "      <td>False</td>\n",
       "      <td>False</td>\n",
       "      <td>False</td>\n",
       "      <td>False</td>\n",
       "      <td>False</td>\n",
       "    </tr>\n",
       "    <tr>\n",
       "      <th>3</th>\n",
       "      <td>False</td>\n",
       "      <td>False</td>\n",
       "      <td>False</td>\n",
       "      <td>False</td>\n",
       "      <td>False</td>\n",
       "    </tr>\n",
       "    <tr>\n",
       "      <th>4</th>\n",
       "      <td>False</td>\n",
       "      <td>False</td>\n",
       "      <td>False</td>\n",
       "      <td>False</td>\n",
       "      <td>False</td>\n",
       "    </tr>\n",
       "    <tr>\n",
       "      <th>...</th>\n",
       "      <td>...</td>\n",
       "      <td>...</td>\n",
       "      <td>...</td>\n",
       "      <td>...</td>\n",
       "      <td>...</td>\n",
       "    </tr>\n",
       "    <tr>\n",
       "      <th>145</th>\n",
       "      <td>False</td>\n",
       "      <td>False</td>\n",
       "      <td>False</td>\n",
       "      <td>False</td>\n",
       "      <td>False</td>\n",
       "    </tr>\n",
       "    <tr>\n",
       "      <th>146</th>\n",
       "      <td>False</td>\n",
       "      <td>False</td>\n",
       "      <td>False</td>\n",
       "      <td>False</td>\n",
       "      <td>False</td>\n",
       "    </tr>\n",
       "    <tr>\n",
       "      <th>147</th>\n",
       "      <td>False</td>\n",
       "      <td>False</td>\n",
       "      <td>False</td>\n",
       "      <td>False</td>\n",
       "      <td>False</td>\n",
       "    </tr>\n",
       "    <tr>\n",
       "      <th>148</th>\n",
       "      <td>False</td>\n",
       "      <td>False</td>\n",
       "      <td>False</td>\n",
       "      <td>False</td>\n",
       "      <td>False</td>\n",
       "    </tr>\n",
       "    <tr>\n",
       "      <th>149</th>\n",
       "      <td>False</td>\n",
       "      <td>False</td>\n",
       "      <td>False</td>\n",
       "      <td>False</td>\n",
       "      <td>False</td>\n",
       "    </tr>\n",
       "  </tbody>\n",
       "</table>\n",
       "<p>150 rows × 5 columns</p>\n",
       "</div>"
      ],
      "text/plain": [
       "     sepal_length  sepal_width  petal_length  petal_width  species\n",
       "0           False        False         False        False    False\n",
       "1           False        False         False        False    False\n",
       "2           False        False         False        False    False\n",
       "3           False        False         False        False    False\n",
       "4           False        False         False        False    False\n",
       "..            ...          ...           ...          ...      ...\n",
       "145         False        False         False        False    False\n",
       "146         False        False         False        False    False\n",
       "147         False        False         False        False    False\n",
       "148         False        False         False        False    False\n",
       "149         False        False         False        False    False\n",
       "\n",
       "[150 rows x 5 columns]"
      ]
     },
     "execution_count": 167,
     "metadata": {},
     "output_type": "execute_result"
    }
   ],
   "source": [
    "iris.isnull()"
   ]
  },
  {
   "cell_type": "code",
   "execution_count": 168,
   "id": "0bde7b66-a29c-4569-a8c2-aabf25cf0d19",
   "metadata": {},
   "outputs": [
    {
     "data": {
      "text/plain": [
       "sepal_length    0\n",
       "sepal_width     0\n",
       "petal_length    0\n",
       "petal_width     0\n",
       "species         0\n",
       "dtype: int64"
      ]
     },
     "execution_count": 168,
     "metadata": {},
     "output_type": "execute_result"
    }
   ],
   "source": [
    "iris.isnull().sum()"
   ]
  },
  {
   "cell_type": "code",
   "execution_count": 169,
   "id": "eec091a5",
   "metadata": {},
   "outputs": [
    {
     "data": {
      "text/html": [
       "<div>\n",
       "<style scoped>\n",
       "    .dataframe tbody tr th:only-of-type {\n",
       "        vertical-align: middle;\n",
       "    }\n",
       "\n",
       "    .dataframe tbody tr th {\n",
       "        vertical-align: top;\n",
       "    }\n",
       "\n",
       "    .dataframe thead th {\n",
       "        text-align: right;\n",
       "    }\n",
       "</style>\n",
       "<table border=\"1\" class=\"dataframe\">\n",
       "  <thead>\n",
       "    <tr style=\"text-align: right;\">\n",
       "      <th></th>\n",
       "      <th>sepal_length</th>\n",
       "      <th>sepal_width</th>\n",
       "      <th>petal_length</th>\n",
       "      <th>petal_width</th>\n",
       "      <th>species</th>\n",
       "      <th>Species</th>\n",
       "    </tr>\n",
       "  </thead>\n",
       "  <tbody>\n",
       "    <tr>\n",
       "      <th>0</th>\n",
       "      <td>5.1</td>\n",
       "      <td>3.5</td>\n",
       "      <td>1.4</td>\n",
       "      <td>0.2</td>\n",
       "      <td>Iris-setosa</td>\n",
       "      <td>0</td>\n",
       "    </tr>\n",
       "    <tr>\n",
       "      <th>1</th>\n",
       "      <td>4.9</td>\n",
       "      <td>3.0</td>\n",
       "      <td>1.4</td>\n",
       "      <td>0.2</td>\n",
       "      <td>Iris-setosa</td>\n",
       "      <td>0</td>\n",
       "    </tr>\n",
       "    <tr>\n",
       "      <th>2</th>\n",
       "      <td>4.7</td>\n",
       "      <td>3.2</td>\n",
       "      <td>1.3</td>\n",
       "      <td>0.2</td>\n",
       "      <td>Iris-setosa</td>\n",
       "      <td>0</td>\n",
       "    </tr>\n",
       "    <tr>\n",
       "      <th>3</th>\n",
       "      <td>4.6</td>\n",
       "      <td>3.1</td>\n",
       "      <td>1.5</td>\n",
       "      <td>0.2</td>\n",
       "      <td>Iris-setosa</td>\n",
       "      <td>0</td>\n",
       "    </tr>\n",
       "    <tr>\n",
       "      <th>4</th>\n",
       "      <td>5.0</td>\n",
       "      <td>3.6</td>\n",
       "      <td>1.4</td>\n",
       "      <td>0.2</td>\n",
       "      <td>Iris-setosa</td>\n",
       "      <td>0</td>\n",
       "    </tr>\n",
       "  </tbody>\n",
       "</table>\n",
       "</div>"
      ],
      "text/plain": [
       "   sepal_length  sepal_width  petal_length  petal_width      species  Species\n",
       "0           5.1          3.5           1.4          0.2  Iris-setosa        0\n",
       "1           4.9          3.0           1.4          0.2  Iris-setosa        0\n",
       "2           4.7          3.2           1.3          0.2  Iris-setosa        0\n",
       "3           4.6          3.1           1.5          0.2  Iris-setosa        0\n",
       "4           5.0          3.6           1.4          0.2  Iris-setosa        0"
      ]
     },
     "execution_count": 169,
     "metadata": {},
     "output_type": "execute_result"
    }
   ],
   "source": [
    "from sklearn.preprocessing import LabelEncoder\n",
    "le = LabelEncoder()\n",
    "iris['Species'] = le.fit_transform(iris['species'])\n",
    "iris.head()"
   ]
  },
  {
   "cell_type": "code",
   "execution_count": 170,
   "id": "fdf43f2b-c16d-4fce-b79b-0851fc292045",
   "metadata": {},
   "outputs": [
    {
     "name": "stdout",
     "output_type": "stream",
     "text": [
      "['Iris-setosa' 'Iris-versicolor' 'Iris-virginica']\n"
     ]
    }
   ],
   "source": [
    "species_name = le.classes_\n",
    "print(species_name)"
   ]
  },
  {
   "cell_type": "code",
   "execution_count": 171,
   "id": "dc67f39d",
   "metadata": {},
   "outputs": [
    {
     "data": {
      "text/html": [
       "<div>\n",
       "<style scoped>\n",
       "    .dataframe tbody tr th:only-of-type {\n",
       "        vertical-align: middle;\n",
       "    }\n",
       "\n",
       "    .dataframe tbody tr th {\n",
       "        vertical-align: top;\n",
       "    }\n",
       "\n",
       "    .dataframe thead th {\n",
       "        text-align: right;\n",
       "    }\n",
       "</style>\n",
       "<table border=\"1\" class=\"dataframe\">\n",
       "  <thead>\n",
       "    <tr style=\"text-align: right;\">\n",
       "      <th></th>\n",
       "      <th>sepal_length</th>\n",
       "      <th>sepal_width</th>\n",
       "      <th>petal_length</th>\n",
       "      <th>petal_width</th>\n",
       "      <th>Species</th>\n",
       "    </tr>\n",
       "  </thead>\n",
       "  <tbody>\n",
       "    <tr>\n",
       "      <th>0</th>\n",
       "      <td>5.1</td>\n",
       "      <td>3.5</td>\n",
       "      <td>1.4</td>\n",
       "      <td>0.2</td>\n",
       "      <td>0</td>\n",
       "    </tr>\n",
       "    <tr>\n",
       "      <th>1</th>\n",
       "      <td>4.9</td>\n",
       "      <td>3.0</td>\n",
       "      <td>1.4</td>\n",
       "      <td>0.2</td>\n",
       "      <td>0</td>\n",
       "    </tr>\n",
       "    <tr>\n",
       "      <th>2</th>\n",
       "      <td>4.7</td>\n",
       "      <td>3.2</td>\n",
       "      <td>1.3</td>\n",
       "      <td>0.2</td>\n",
       "      <td>0</td>\n",
       "    </tr>\n",
       "  </tbody>\n",
       "</table>\n",
       "</div>"
      ],
      "text/plain": [
       "   sepal_length  sepal_width  petal_length  petal_width  Species\n",
       "0           5.1          3.5           1.4          0.2        0\n",
       "1           4.9          3.0           1.4          0.2        0\n",
       "2           4.7          3.2           1.3          0.2        0"
      ]
     },
     "execution_count": 171,
     "metadata": {},
     "output_type": "execute_result"
    }
   ],
   "source": [
    "X = iris.drop(columns=['species'])\n",
    "y = iris['Species']\n",
    "X.head(3)"
   ]
  },
  {
   "cell_type": "code",
   "execution_count": 181,
   "id": "7faabfcd-37e5-4ab6-9927-b5c9471be76a",
   "metadata": {},
   "outputs": [
    {
     "name": "stdout",
     "output_type": "stream",
     "text": [
      "0    0\n",
      "1    0\n",
      "2    0\n",
      "3    0\n",
      "4    0\n",
      "Name: Species, dtype: int32\n"
     ]
    }
   ],
   "source": [
    "print(y[:5])"
   ]
  },
  {
   "cell_type": "code",
   "execution_count": 182,
   "id": "096b4d4e-f78a-4b67-a7a6-f202d919137a",
   "metadata": {},
   "outputs": [],
   "source": [
    "x_train , x_test , y_train , y_test = train_test_split(X,y,test_size=0.3,shuffle=True, random_state=69)\n"
   ]
  },
  {
   "cell_type": "code",
   "execution_count": 183,
   "id": "110a6c2f-a05f-4033-86e1-440838428fdf",
   "metadata": {},
   "outputs": [
    {
     "data": {
      "text/plain": [
       "(105, 5)"
      ]
     },
     "execution_count": 183,
     "metadata": {},
     "output_type": "execute_result"
    }
   ],
   "source": [
    "x_train.shape"
   ]
  },
  {
   "cell_type": "code",
   "execution_count": 185,
   "id": "e763edf9-b846-4818-8e99-31aac39e08a2",
   "metadata": {},
   "outputs": [
    {
     "name": "stdout",
     "output_type": "stream",
     "text": [
      "    sepal_length  sepal_width  petal_length  petal_width  Species\n",
      "57           4.9          2.4           3.3          1.0        1\n",
      "[[-1.14630942 -1.44374444 -0.25650655 -0.258263    0.01192336]]\n"
     ]
    }
   ],
   "source": [
    "from sklearn.preprocessing import StandardScaler\n",
    "sc=StandardScaler()\n",
    "print(x_train[:1])\n",
    "x_train = sc.fit_transform(x_train)\n",
    "x_test = sc.transform(x_test)\n",
    "print(x_train[:1])"
   ]
  },
  {
   "cell_type": "code",
   "execution_count": 190,
   "id": "09e04629-d59f-47cd-a56c-a9b0bb31a8c3",
   "metadata": {},
   "outputs": [
    {
     "name": "stdout",
     "output_type": "stream",
     "text": [
      "[[0. 1. 0.]\n",
      " [0. 0. 1.]\n",
      " [0. 1. 0.]\n",
      " [0. 1. 0.]\n",
      " [0. 1. 0.]]\n"
     ]
    }
   ],
   "source": [
    "y_train = keras.utils.to_categorical(y_train,num_classes=3)\n",
    "print(y_train[:5])"
   ]
  },
  {
   "cell_type": "code",
   "execution_count": 193,
   "id": "4f6ce4bc-603a-4e86-a18d-a78d346b42af",
   "metadata": {},
   "outputs": [],
   "source": [
    "model = Sequential()\n",
    "model.add(Dense(units=32 , activation='relu', input_shape=(x_train.shape[-1],)))\n",
    "model.add(Dense(units=32 , activation='relu'))\n",
    "model.add(Dropout(0.5))\n",
    "model.add(Dense(units=3 , activation='softmax'))"
   ]
  },
  {
   "cell_type": "code",
   "execution_count": 194,
   "id": "8fef2732-9d15-4978-b4c0-1728f50f5743",
   "metadata": {},
   "outputs": [
    {
     "name": "stdout",
     "output_type": "stream",
     "text": [
      "Model: \"sequential_40\"\n",
      "_________________________________________________________________\n",
      " Layer (type)                Output Shape              Param #   \n",
      "=================================================================\n",
      " dense_70 (Dense)            (None, 32)                192       \n",
      "                                                                 \n",
      " dense_71 (Dense)            (None, 32)                1056      \n",
      "                                                                 \n",
      " dropout_8 (Dropout)         (None, 32)                0         \n",
      "                                                                 \n",
      " dense_72 (Dense)            (None, 3)                 99        \n",
      "                                                                 \n",
      "=================================================================\n",
      "Total params: 1347 (5.26 KB)\n",
      "Trainable params: 1347 (5.26 KB)\n",
      "Non-trainable params: 0 (0.00 Byte)\n",
      "_________________________________________________________________\n"
     ]
    }
   ],
   "source": [
    "model.compile(optimizer='Adam',loss='categorical_crossentropy',metrics=['accuracy'])\n",
    "model.summary()"
   ]
  },
  {
   "cell_type": "code",
   "execution_count": 195,
   "id": "fb5c8299-ccc3-4475-be64-be118f7f323b",
   "metadata": {},
   "outputs": [
    {
     "name": "stdout",
     "output_type": "stream",
     "text": [
      "Epoch 1/100\n",
      "4/4 - 2s - loss: 1.1689 - accuracy: 0.1810 - 2s/epoch - 436ms/step\n",
      "Epoch 2/100\n",
      "4/4 - 0s - loss: 1.1143 - accuracy: 0.3143 - 39ms/epoch - 10ms/step\n",
      "Epoch 3/100\n",
      "4/4 - 0s - loss: 1.0464 - accuracy: 0.5143 - 25ms/epoch - 6ms/step\n",
      "Epoch 4/100\n",
      "4/4 - 0s - loss: 0.9765 - accuracy: 0.5810 - 26ms/epoch - 6ms/step\n",
      "Epoch 5/100\n",
      "4/4 - 0s - loss: 0.9879 - accuracy: 0.5524 - 25ms/epoch - 6ms/step\n",
      "Epoch 6/100\n",
      "4/4 - 0s - loss: 0.9543 - accuracy: 0.5524 - 32ms/epoch - 8ms/step\n",
      "Epoch 7/100\n",
      "4/4 - 0s - loss: 0.9065 - accuracy: 0.6381 - 26ms/epoch - 7ms/step\n",
      "Epoch 8/100\n",
      "4/4 - 0s - loss: 0.8959 - accuracy: 0.6381 - 33ms/epoch - 8ms/step\n",
      "Epoch 9/100\n",
      "4/4 - 0s - loss: 0.8540 - accuracy: 0.6000 - 15ms/epoch - 4ms/step\n",
      "Epoch 10/100\n",
      "4/4 - 0s - loss: 0.8070 - accuracy: 0.7238 - 17ms/epoch - 4ms/step\n",
      "Epoch 11/100\n",
      "4/4 - 0s - loss: 0.7783 - accuracy: 0.7238 - 28ms/epoch - 7ms/step\n",
      "Epoch 12/100\n",
      "4/4 - 0s - loss: 0.7297 - accuracy: 0.7714 - 24ms/epoch - 6ms/step\n",
      "Epoch 13/100\n",
      "4/4 - 0s - loss: 0.7627 - accuracy: 0.7333 - 18ms/epoch - 4ms/step\n",
      "Epoch 14/100\n",
      "4/4 - 0s - loss: 0.6932 - accuracy: 0.7905 - 17ms/epoch - 4ms/step\n",
      "Epoch 15/100\n",
      "4/4 - 0s - loss: 0.6598 - accuracy: 0.8000 - 33ms/epoch - 8ms/step\n",
      "Epoch 16/100\n",
      "4/4 - 0s - loss: 0.6882 - accuracy: 0.7619 - 25ms/epoch - 6ms/step\n",
      "Epoch 17/100\n",
      "4/4 - 0s - loss: 0.5900 - accuracy: 0.8381 - 18ms/epoch - 4ms/step\n",
      "Epoch 18/100\n",
      "4/4 - 0s - loss: 0.5596 - accuracy: 0.8286 - 23ms/epoch - 6ms/step\n",
      "Epoch 19/100\n",
      "4/4 - 0s - loss: 0.5592 - accuracy: 0.8476 - 22ms/epoch - 6ms/step\n",
      "Epoch 20/100\n",
      "4/4 - 0s - loss: 0.5176 - accuracy: 0.8476 - 23ms/epoch - 6ms/step\n",
      "Epoch 21/100\n",
      "4/4 - 0s - loss: 0.4861 - accuracy: 0.8571 - 25ms/epoch - 6ms/step\n",
      "Epoch 22/100\n",
      "4/4 - 0s - loss: 0.4597 - accuracy: 0.8952 - 33ms/epoch - 8ms/step\n",
      "Epoch 23/100\n",
      "4/4 - 0s - loss: 0.4625 - accuracy: 0.9143 - 27ms/epoch - 7ms/step\n",
      "Epoch 24/100\n",
      "4/4 - 0s - loss: 0.4345 - accuracy: 0.9048 - 24ms/epoch - 6ms/step\n",
      "Epoch 25/100\n",
      "4/4 - 0s - loss: 0.3908 - accuracy: 0.9333 - 23ms/epoch - 6ms/step\n",
      "Epoch 26/100\n",
      "4/4 - 0s - loss: 0.3856 - accuracy: 0.9143 - 21ms/epoch - 5ms/step\n",
      "Epoch 27/100\n",
      "4/4 - 0s - loss: 0.3661 - accuracy: 0.9238 - 25ms/epoch - 6ms/step\n",
      "Epoch 28/100\n",
      "4/4 - 0s - loss: 0.3635 - accuracy: 0.9429 - 18ms/epoch - 4ms/step\n",
      "Epoch 29/100\n",
      "4/4 - 0s - loss: 0.3642 - accuracy: 0.9238 - 26ms/epoch - 7ms/step\n",
      "Epoch 30/100\n",
      "4/4 - 0s - loss: 0.3129 - accuracy: 0.9333 - 25ms/epoch - 6ms/step\n",
      "Epoch 31/100\n",
      "4/4 - 0s - loss: 0.3136 - accuracy: 0.9429 - 23ms/epoch - 6ms/step\n",
      "Epoch 32/100\n",
      "4/4 - 0s - loss: 0.3362 - accuracy: 0.9429 - 19ms/epoch - 5ms/step\n",
      "Epoch 33/100\n",
      "4/4 - 0s - loss: 0.2610 - accuracy: 0.9429 - 20ms/epoch - 5ms/step\n",
      "Epoch 34/100\n",
      "4/4 - 0s - loss: 0.2987 - accuracy: 0.9143 - 18ms/epoch - 5ms/step\n",
      "Epoch 35/100\n",
      "4/4 - 0s - loss: 0.2652 - accuracy: 0.9238 - 24ms/epoch - 6ms/step\n",
      "Epoch 36/100\n",
      "4/4 - 0s - loss: 0.2249 - accuracy: 0.9619 - 20ms/epoch - 5ms/step\n",
      "Epoch 37/100\n",
      "4/4 - 0s - loss: 0.2373 - accuracy: 0.9524 - 23ms/epoch - 6ms/step\n",
      "Epoch 38/100\n",
      "4/4 - 0s - loss: 0.2071 - accuracy: 0.9619 - 24ms/epoch - 6ms/step\n",
      "Epoch 39/100\n",
      "4/4 - 0s - loss: 0.1960 - accuracy: 0.9619 - 16ms/epoch - 4ms/step\n",
      "Epoch 40/100\n",
      "4/4 - 0s - loss: 0.2151 - accuracy: 0.9714 - 18ms/epoch - 4ms/step\n",
      "Epoch 41/100\n",
      "4/4 - 0s - loss: 0.2028 - accuracy: 0.9524 - 20ms/epoch - 5ms/step\n",
      "Epoch 42/100\n",
      "4/4 - 0s - loss: 0.2004 - accuracy: 0.9524 - 22ms/epoch - 6ms/step\n",
      "Epoch 43/100\n",
      "4/4 - 0s - loss: 0.1765 - accuracy: 0.9714 - 23ms/epoch - 6ms/step\n",
      "Epoch 44/100\n",
      "4/4 - 0s - loss: 0.1826 - accuracy: 0.9619 - 21ms/epoch - 5ms/step\n",
      "Epoch 45/100\n",
      "4/4 - 0s - loss: 0.1829 - accuracy: 0.9810 - 22ms/epoch - 6ms/step\n",
      "Epoch 46/100\n",
      "4/4 - 0s - loss: 0.1369 - accuracy: 0.9810 - 21ms/epoch - 5ms/step\n",
      "Epoch 47/100\n",
      "4/4 - 0s - loss: 0.1138 - accuracy: 0.9905 - 21ms/epoch - 5ms/step\n",
      "Epoch 48/100\n",
      "4/4 - 0s - loss: 0.1715 - accuracy: 0.9905 - 18ms/epoch - 4ms/step\n",
      "Epoch 49/100\n",
      "4/4 - 0s - loss: 0.1987 - accuracy: 0.9619 - 20ms/epoch - 5ms/step\n",
      "Epoch 50/100\n",
      "4/4 - 0s - loss: 0.1433 - accuracy: 0.9905 - 22ms/epoch - 5ms/step\n",
      "Epoch 51/100\n",
      "4/4 - 0s - loss: 0.1417 - accuracy: 0.9905 - 14ms/epoch - 4ms/step\n",
      "Epoch 52/100\n",
      "4/4 - 0s - loss: 0.1198 - accuracy: 1.0000 - 16ms/epoch - 4ms/step\n",
      "Epoch 53/100\n",
      "4/4 - 0s - loss: 0.1263 - accuracy: 0.9810 - 20ms/epoch - 5ms/step\n",
      "Epoch 54/100\n",
      "4/4 - 0s - loss: 0.0924 - accuracy: 1.0000 - 28ms/epoch - 7ms/step\n",
      "Epoch 55/100\n",
      "4/4 - 0s - loss: 0.1020 - accuracy: 1.0000 - 22ms/epoch - 6ms/step\n",
      "Epoch 56/100\n",
      "4/4 - 0s - loss: 0.0966 - accuracy: 0.9905 - 32ms/epoch - 8ms/step\n",
      "Epoch 57/100\n",
      "4/4 - 0s - loss: 0.1020 - accuracy: 0.9714 - 27ms/epoch - 7ms/step\n",
      "Epoch 58/100\n",
      "4/4 - 0s - loss: 0.0927 - accuracy: 1.0000 - 23ms/epoch - 6ms/step\n",
      "Epoch 59/100\n",
      "4/4 - 0s - loss: 0.0906 - accuracy: 1.0000 - 15ms/epoch - 4ms/step\n",
      "Epoch 60/100\n",
      "4/4 - 0s - loss: 0.1208 - accuracy: 0.9810 - 33ms/epoch - 8ms/step\n",
      "Epoch 61/100\n",
      "4/4 - 0s - loss: 0.1210 - accuracy: 0.9714 - 19ms/epoch - 5ms/step\n",
      "Epoch 62/100\n",
      "4/4 - 0s - loss: 0.1078 - accuracy: 0.9810 - 21ms/epoch - 5ms/step\n",
      "Epoch 63/100\n",
      "4/4 - 0s - loss: 0.0642 - accuracy: 1.0000 - 17ms/epoch - 4ms/step\n",
      "Epoch 64/100\n",
      "4/4 - 0s - loss: 0.0751 - accuracy: 1.0000 - 19ms/epoch - 5ms/step\n",
      "Epoch 65/100\n",
      "4/4 - 0s - loss: 0.0990 - accuracy: 0.9714 - 19ms/epoch - 5ms/step\n",
      "Epoch 66/100\n",
      "4/4 - 0s - loss: 0.0986 - accuracy: 0.9810 - 30ms/epoch - 8ms/step\n",
      "Epoch 67/100\n",
      "4/4 - 0s - loss: 0.0920 - accuracy: 0.9905 - 24ms/epoch - 6ms/step\n",
      "Epoch 68/100\n",
      "4/4 - 0s - loss: 0.0638 - accuracy: 1.0000 - 17ms/epoch - 4ms/step\n",
      "Epoch 69/100\n",
      "4/4 - 0s - loss: 0.0692 - accuracy: 1.0000 - 14ms/epoch - 4ms/step\n",
      "Epoch 70/100\n",
      "4/4 - 0s - loss: 0.0809 - accuracy: 1.0000 - 18ms/epoch - 5ms/step\n",
      "Epoch 71/100\n",
      "4/4 - 0s - loss: 0.0950 - accuracy: 0.9905 - 24ms/epoch - 6ms/step\n",
      "Epoch 72/100\n",
      "4/4 - 0s - loss: 0.0893 - accuracy: 0.9810 - 34ms/epoch - 8ms/step\n",
      "Epoch 73/100\n",
      "4/4 - 0s - loss: 0.0648 - accuracy: 0.9905 - 33ms/epoch - 8ms/step\n",
      "Epoch 74/100\n",
      "4/4 - 0s - loss: 0.0340 - accuracy: 1.0000 - 29ms/epoch - 7ms/step\n",
      "Epoch 75/100\n",
      "4/4 - 0s - loss: 0.0712 - accuracy: 0.9810 - 17ms/epoch - 4ms/step\n",
      "Epoch 76/100\n",
      "4/4 - 0s - loss: 0.0498 - accuracy: 1.0000 - 32ms/epoch - 8ms/step\n",
      "Epoch 77/100\n",
      "4/4 - 0s - loss: 0.0412 - accuracy: 1.0000 - 17ms/epoch - 4ms/step\n",
      "Epoch 78/100\n",
      "4/4 - 0s - loss: 0.0742 - accuracy: 0.9905 - 17ms/epoch - 4ms/step\n",
      "Epoch 79/100\n",
      "4/4 - 0s - loss: 0.0521 - accuracy: 1.0000 - 16ms/epoch - 4ms/step\n",
      "Epoch 80/100\n",
      "4/4 - 0s - loss: 0.0499 - accuracy: 1.0000 - 17ms/epoch - 4ms/step\n",
      "Epoch 81/100\n",
      "4/4 - 0s - loss: 0.0564 - accuracy: 1.0000 - 32ms/epoch - 8ms/step\n",
      "Epoch 82/100\n",
      "4/4 - 0s - loss: 0.0571 - accuracy: 0.9905 - 19ms/epoch - 5ms/step\n",
      "Epoch 83/100\n",
      "4/4 - 0s - loss: 0.0479 - accuracy: 1.0000 - 33ms/epoch - 8ms/step\n",
      "Epoch 84/100\n",
      "4/4 - 0s - loss: 0.0390 - accuracy: 1.0000 - 28ms/epoch - 7ms/step\n",
      "Epoch 85/100\n",
      "4/4 - 0s - loss: 0.0623 - accuracy: 0.9905 - 29ms/epoch - 7ms/step\n",
      "Epoch 86/100\n",
      "4/4 - 0s - loss: 0.0421 - accuracy: 0.9905 - 26ms/epoch - 6ms/step\n",
      "Epoch 87/100\n",
      "4/4 - 0s - loss: 0.0448 - accuracy: 0.9905 - 24ms/epoch - 6ms/step\n",
      "Epoch 88/100\n",
      "4/4 - 0s - loss: 0.0441 - accuracy: 0.9905 - 24ms/epoch - 6ms/step\n",
      "Epoch 89/100\n",
      "4/4 - 0s - loss: 0.0362 - accuracy: 1.0000 - 24ms/epoch - 6ms/step\n",
      "Epoch 90/100\n",
      "4/4 - 0s - loss: 0.0467 - accuracy: 1.0000 - 26ms/epoch - 7ms/step\n",
      "Epoch 91/100\n",
      "4/4 - 0s - loss: 0.0357 - accuracy: 1.0000 - 33ms/epoch - 8ms/step\n",
      "Epoch 92/100\n",
      "4/4 - 0s - loss: 0.0504 - accuracy: 0.9905 - 26ms/epoch - 6ms/step\n",
      "Epoch 93/100\n",
      "4/4 - 0s - loss: 0.0487 - accuracy: 0.9905 - 36ms/epoch - 9ms/step\n",
      "Epoch 94/100\n",
      "4/4 - 0s - loss: 0.0299 - accuracy: 0.9905 - 30ms/epoch - 8ms/step\n",
      "Epoch 95/100\n",
      "4/4 - 0s - loss: 0.0338 - accuracy: 1.0000 - 19ms/epoch - 5ms/step\n",
      "Epoch 96/100\n",
      "4/4 - 0s - loss: 0.0237 - accuracy: 1.0000 - 37ms/epoch - 9ms/step\n",
      "Epoch 97/100\n",
      "4/4 - 0s - loss: 0.0313 - accuracy: 1.0000 - 18ms/epoch - 4ms/step\n",
      "Epoch 98/100\n",
      "4/4 - 0s - loss: 0.0551 - accuracy: 0.9714 - 24ms/epoch - 6ms/step\n",
      "Epoch 99/100\n",
      "4/4 - 0s - loss: 0.0540 - accuracy: 0.9810 - 9ms/epoch - 2ms/step\n",
      "Epoch 100/100\n",
      "4/4 - 0s - loss: 0.0480 - accuracy: 0.9810 - 16ms/epoch - 4ms/step\n"
     ]
    },
    {
     "data": {
      "text/plain": [
       "<keras.src.callbacks.History at 0x2a9a0017ad0>"
      ]
     },
     "execution_count": 195,
     "metadata": {},
     "output_type": "execute_result"
    }
   ],
   "source": [
    "model.fit(x_train , y_train , epochs=100, verbose= 2)"
   ]
  },
  {
   "cell_type": "code",
   "execution_count": 196,
   "id": "49210669-fda2-479e-b008-882088b5a229",
   "metadata": {},
   "outputs": [
    {
     "name": "stdout",
     "output_type": "stream",
     "text": [
      "2/2 [==============================] - 0s 16ms/step\n",
      "[[9.9997330e-01 3.3871233e-06 2.3357026e-05]\n",
      " [3.2718880e-03 9.8883075e-01 7.8973603e-03]\n",
      " [9.9987423e-01 2.7109796e-05 9.8750257e-05]\n",
      " [9.3738861e-05 2.7997876e-04 9.9962616e-01]\n",
      " [9.9983335e-01 3.7062233e-05 1.2950753e-04]]\n"
     ]
    }
   ],
   "source": [
    "prediction = model.predict(x_test)\n",
    "print(prediction[:5])"
   ]
  },
  {
   "cell_type": "code",
   "execution_count": 197,
   "id": "2c248359-aa29-409a-a12a-e93edd11d87a",
   "metadata": {},
   "outputs": [
    {
     "name": "stdout",
     "output_type": "stream",
     "text": [
      "[0 1 0 2 0]\n"
     ]
    }
   ],
   "source": [
    "prediction = np.argmax(prediction, axis=-1)\n",
    "print(prediction[:5])"
   ]
  },
  {
   "cell_type": "code",
   "execution_count": 198,
   "id": "853b9af0-6be0-41ab-a8e0-576025ed104a",
   "metadata": {},
   "outputs": [
    {
     "name": "stdout",
     "output_type": "stream",
     "text": [
      "4      0\n",
      "58     1\n",
      "20     0\n",
      "114    2\n",
      "31     0\n",
      "Name: Species, dtype: int32\n"
     ]
    }
   ],
   "source": [
    "print(y_test[:5])"
   ]
  },
  {
   "cell_type": "code",
   "execution_count": 201,
   "id": "8066d2b5-35e0-463f-b104-4fa441c5d2f7",
   "metadata": {},
   "outputs": [
    {
     "name": "stdout",
     "output_type": "stream",
     "text": [
      "1.0\n"
     ]
    }
   ],
   "source": [
    "from sklearn.metrics import accuracy_score , confusion_matrix\n",
    "print(accuracy_score(y_test,prediction))"
   ]
  },
  {
   "cell_type": "code",
   "execution_count": 202,
   "id": "06c6479e-4e53-49ad-a0fa-319955898aab",
   "metadata": {},
   "outputs": [
    {
     "name": "stdout",
     "output_type": "stream",
     "text": [
      "[[16  0  0]\n",
      " [ 0 12  0]\n",
      " [ 0  0 17]]\n"
     ]
    }
   ],
   "source": [
    "cm = confusion_matrix(y_test,prediction)\n",
    "print(cm)"
   ]
  },
  {
   "cell_type": "code",
   "execution_count": 214,
   "id": "4df8fef4-e6a5-413d-8fee-06c446afc247",
   "metadata": {},
   "outputs": [
    {
     "data": {
      "text/plain": [
       "Text(50.72222222222221, 0.5, 'actual')"
      ]
     },
     "execution_count": 214,
     "metadata": {},
     "output_type": "execute_result"
    },
    {
     "data": {
      "image/png": "[encoded data removed]",
      "text/plain": [
       "<Figure size 640x480 with 2 Axes>"
      ]
     },
     "metadata": {},
     "output_type": "display_data"
    }
   ],
   "source": [
    "ax = sns.heatmap(cm , annot=True , fmt='d' , cmap='Reds', xticklabels=species_name , yticklabels=species_name)\n",
    "ax.set_title('confusion matrix for iris dataset prediction')\n",
    "ax.set_xlabel('prediction', fontsize=14)\n",
    "ax.set_ylabel('actual', fontsize=14)"
   ]
  },
  {
   "cell_type": "code",
   "execution_count": 217,
   "id": "5769ae97",
   "metadata": {},
   "outputs": [],
   "source": [
    "X_test = np.arange(20).reshape((5,4))  \n",
    "if X_test.size == 0:\n",
    "    print(\"X_test is empty!\")\n",
    "# Get first column \n",
    "X_test[:,0] = X_test[:,0].astype(np.float32)\n",
    "\n",
    "# Or first row\n",
    "X_test[0,:] = X_test[0,:].astype(np.float32)\n",
    "if X_test.shape[1] > 0:\n",
    "    X_test[:,0] = 1\n",
    "X_test = X_test.astype(np.float32)\n"
   ]
  },
  {
   "cell_type": "code",
   "execution_count": 219,
   "id": "bff8c00f-e62d-439f-8f18-4aa9a679eff1",
   "metadata": {},
   "outputs": [
    {
     "name": "stdout",
     "output_type": "stream",
     "text": [
      "X_test shape: (5, 4)\n",
      "y_test shape: (45,)\n"
     ]
    }
   ],
   "source": [
    "print(\"X_test shape:\", X_test.shape)\n",
    "print(\"y_test shape:\", y_test.shape)\n"
   ]
  },
  {
   "cell_type": "code",
   "execution_count": 220,
   "id": "bf78fa70-423d-4e95-938d-284ce31310df",
   "metadata": {},
   "outputs": [
    {
     "name": "stdout",
     "output_type": "stream",
     "text": [
      "1/1 [==============================] - 0s 451ms/step - loss: 7.2878 - accuracy: 0.0000e+00\n"
     ]
    }
   ],
   "source": [
    "import numpy as np\n",
    "from keras.models import Sequential\n",
    "from keras.layers import Dense\n",
    "X_test_corrected = X_test[:, :4]  # Assuming you want the first 4 features\n",
    "y_test_corrected = y_test[:5]  # Assuming you want the first 5 samples\n",
    "\n",
    "# Define a simple model with the correct input shape\n",
    "model = Sequential()\n",
    "model.add(Dense(units=32, input_shape=(4,)))  # Update '4' and '32' based on your data and model architecture\n",
    "# Add other layers as needed\n",
    "model.compile(optimizer='adam', loss='binary_crossentropy',metrics=['accuracy'])\n",
    "# Now, you can evaluate your model with the corrected data\n",
    "test_results = model.evaluate(X_test_corrected, y_test_corrected, return_dict=True)\n"
   ]
  }
 ],
 "metadata": {
  "kernelspec": {
   "display_name": "Python 3 (ipykernel)",
   "language": "python",
   "name": "python3"
  },
  "language_info": {
   "codemirror_mode": {
    "name": "ipython",
    "version": 3
   },
   "file_extension": ".py",
   "mimetype": "text/x-python",
   "name": "python",
   "nbconvert_exporter": "python",
   "pygments_lexer": "ipython3",
   "version": "3.11.4"
  },
  "widgets": {
   "application/vnd.jupyter.widget-state+json": {
    "state": {},
    "version_major": 2,
    "version_minor": 0
   }
  }
 },
 "nbformat": 4,
 "nbformat_minor": 5
}
